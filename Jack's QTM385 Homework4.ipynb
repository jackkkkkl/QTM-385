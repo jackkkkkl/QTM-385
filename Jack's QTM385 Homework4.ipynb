{
 "cells": [
  {
   "cell_type": "markdown",
   "metadata": {},
   "source": [
    "# QTM 385\n",
    "\n",
    "***\n",
    "\n",
    "## Homework 4\n",
    "\n",
    "Student: [2377484]"
   ]
  },
  {
   "cell_type": "markdown",
   "metadata": {},
   "source": [
    "In this homework, we will create an object called Student, that is useful for a professor to store information about a student."
   ]
  },
  {
   "cell_type": "markdown",
   "metadata": {},
   "source": [
    "\n",
    "***\n",
    "\n",
    "### Question 1\n",
    "\n",
    "Create a class Student, that has:\n",
    "\n",
    "0. Id number (5-digits integer, starting with 1)\n",
    "1. First Name (str)\n",
    "2. Last Name (str)\n",
    "3. Grades (list of floats)\n",
    "4. Credits (list of integers)\n",
    "5. Major (str)\n",
    "\n",
    "Provide a constructor for your class and create one fictitious student."
   ]
  },
  {
   "cell_type": "code",
   "execution_count": 59,
   "metadata": {},
   "outputs": [],
   "source": [
    "# Your answer here\n",
    "class Student:\n",
    "    def __init__(self, I, fn, ln, gr, cr, maj):\n",
    "        self.ID = I\n",
    "        self.firstname = fn\n",
    "        self.lastname = ln\n",
    "        self.grade = gr\n",
    "        self.credit = cr\n",
    "        self.major = maj"
   ]
  },
  {
   "cell_type": "markdown",
   "metadata": {},
   "source": [
    "\n",
    "***\n",
    "\n",
    "### Question 2\n",
    "\n",
    "Create a method to nicely display the student when we type `print`. It should display, for example:\n",
    "\n",
    "```\n",
    "Student:\n",
    "    Id: 12345\n",
    "    Name: Mig, Umberto\n",
    "    Major: QSS\n",
    "```\n",
    "\n",
    "Create a method that, when a variable storing a student is typed in the console, displays:\n",
    "\n",
    "```\n",
    "Student(Mig, Umberto; 12345)\n",
    "```\n",
    "\n",
    "Provide some testing with a fictitious result of your choice."
   ]
  },
  {
   "cell_type": "code",
   "execution_count": 60,
   "metadata": {},
   "outputs": [],
   "source": [
    "# Your answer here\n",
    "class Student:\n",
    "    def __init__(self, I, fn, ln, maj):\n",
    "        self.ID = I\n",
    "        self.firstname = fn\n",
    "        self.lastname = ln\n",
    "        self.major = maj\n",
    "\n",
    "    def print_it(self):\n",
    "        print(\"ID: \"+str(self.ID)+\" \\nName: \" + self.lastname + \", \" + self.firstname + \"\\nMajor: \"+\n",
    "              self.major)"
   ]
  },
  {
   "cell_type": "code",
   "execution_count": 61,
   "metadata": {},
   "outputs": [
    {
     "name": "stdout",
     "output_type": "stream",
     "text": [
      "ID: 12345 \n",
      "Name: Mig, Umberto\n",
      "Major: QSS\n"
     ]
    }
   ],
   "source": [
    "stu=Student(12345, 'Umberto', 'Mig', 'QSS')\n",
    "stu.print_it()"
   ]
  },
  {
   "cell_type": "markdown",
   "metadata": {},
   "source": [
    "\n",
    "***\n",
    "\n",
    "### Question 3\n",
    "\n",
    "Implement class methods for:\n",
    "\n",
    "1. Check if the id number is valid (remember: 5 digits, starting with number one)\n",
    "2. Check if the grades list has the same length as the credits list. The idea is that every grade corresponds to a course that gave the student a certain amount of credits.\n",
    "3. Append grade and credit: given a grade, and credits attached to the grade, append both to each respective place.\n",
    "\n",
    "Test your function with a toy student of your choice."
   ]
  },
  {
   "cell_type": "code",
   "execution_count": 62,
   "metadata": {},
   "outputs": [],
   "source": [
    "# Your answer here\n",
    "class Student:\n",
    "    def __init__(self, I, fn, ln, gr, cr, maj):\n",
    "        self.ID = I\n",
    "        self.firstname = fn\n",
    "        self.lastname = ln\n",
    "        self.grade = gr\n",
    "        self.credit = cr\n",
    "        self.major = maj\n",
    "        \n",
    "    def vad(self):\n",
    "        if self.ID <10000 or self.ID > 19999:\n",
    "            print('Error. Not an valid ID.')\n",
    "        else:\n",
    "            print('The Student ID ' + str(self.ID) + ' is valid.')\n",
    "    \n",
    "    def gradelist(self):\n",
    "        if len(self.grade)==len(self.credit):\n",
    "            print('The grade list has the same length as the credit list')\n",
    "        else:\n",
    "            print('Error. Lists do not have the same length.')\n",
    "    \n",
    "    def appendgr(self, new_grade):\n",
    "        self.grade.append(new_grade)\n",
    "    \n",
    "    def appendcr(self, new_credit):\n",
    "        self.credit.append(new_credit)\n",
    "        "
   ]
  },
  {
   "cell_type": "code",
   "execution_count": 63,
   "metadata": {},
   "outputs": [],
   "source": [
    "stu=Student(10000, 'John', 'Smith', [93, 90, 100], [3,3,3], 'QSS')"
   ]
  },
  {
   "cell_type": "code",
   "execution_count": 64,
   "metadata": {},
   "outputs": [
    {
     "name": "stdout",
     "output_type": "stream",
     "text": [
      "The Student ID 10000 is valid.\n"
     ]
    }
   ],
   "source": [
    "stu.vad()"
   ]
  },
  {
   "cell_type": "code",
   "execution_count": 65,
   "metadata": {},
   "outputs": [
    {
     "name": "stdout",
     "output_type": "stream",
     "text": [
      "The grade list has the same length as the credit list\n"
     ]
    }
   ],
   "source": [
    "stu.gradelist()"
   ]
  },
  {
   "cell_type": "code",
   "execution_count": 66,
   "metadata": {},
   "outputs": [],
   "source": [
    "stu.appendgr(95)"
   ]
  },
  {
   "cell_type": "code",
   "execution_count": 67,
   "metadata": {},
   "outputs": [],
   "source": [
    "stu.appendcr(4)"
   ]
  },
  {
   "cell_type": "markdown",
   "metadata": {},
   "source": [
    "\n",
    "***\n",
    "\n",
    "### Question 4\n",
    "\n",
    "Create a module in the class Student that computes the unweighted average of the student's grades."
   ]
  },
  {
   "cell_type": "code",
   "execution_count": 68,
   "metadata": {},
   "outputs": [],
   "source": [
    "# Your answer here\n",
    "class Student:\n",
    "    def __init__(self, I, fn, ln, gr, cr, maj):\n",
    "        self.ID = I\n",
    "        self.firstname = fn\n",
    "        self.lastname = ln\n",
    "        self.grade = gr\n",
    "        self.credit = cr\n",
    "        self.major = maj\n",
    "        \n",
    "    def avggr(self):\n",
    "        grade=0\n",
    "        for i in self.grade:\n",
    "            grade+=i\n",
    "        avg=grade/len(self.grade)\n",
    "        return avg"
   ]
  },
  {
   "cell_type": "code",
   "execution_count": 69,
   "metadata": {},
   "outputs": [],
   "source": [
    "stu=Student(10000, 'John', 'Smith', [93, 90, 100], [3,3,4], 'QSS')"
   ]
  },
  {
   "cell_type": "code",
   "execution_count": 70,
   "metadata": {},
   "outputs": [
    {
     "data": {
      "text/plain": [
       "94.33333333333333"
      ]
     },
     "execution_count": 70,
     "metadata": {},
     "output_type": "execute_result"
    }
   ],
   "source": [
    "stu.avggr()"
   ]
  },
  {
   "cell_type": "markdown",
   "metadata": {},
   "source": [
    "\n",
    "***\n",
    "\n",
    "### Question 5\n",
    "\n",
    "Create a module in the class Student that computes the weighted average of the student's grades, weighted by the credits."
   ]
  },
  {
   "cell_type": "code",
   "execution_count": 74,
   "metadata": {},
   "outputs": [],
   "source": [
    "# Your answer here\n",
    "class Student:\n",
    "    def __init__(self, I, fn, ln, gr, cr, maj):\n",
    "        self.ID = I\n",
    "        self.firstname = fn\n",
    "        self.lastname = ln\n",
    "        self.grade = gr\n",
    "        self.credit = cr\n",
    "        self.major = maj\n",
    "        \n",
    "    def weightedavg(self):\n",
    "        credit=0\n",
    "        for i in self.credit:\n",
    "            credit+=i\n",
    "        for i in range(len(self.grade)):\n",
    "            avg=self.credit[i]*self.grade[i]/credit \n",
    "        return avg"
   ]
  },
  {
   "cell_type": "code",
   "execution_count": 72,
   "metadata": {},
   "outputs": [],
   "source": [
    "stu=Student(10000, 'John', 'Smith', [93, 90, 100], [3,3,4], 'QSS')"
   ]
  },
  {
   "cell_type": "code",
   "execution_count": 75,
   "metadata": {},
   "outputs": [
    {
     "data": {
      "text/plain": [
       "94.9"
      ]
     },
     "execution_count": 75,
     "metadata": {},
     "output_type": "execute_result"
    }
   ],
   "source": [
    "stu.weightedavg()"
   ]
  },
  {
   "cell_type": "markdown",
   "metadata": {},
   "source": [
    "**That's all, folks!**"
   ]
  }
 ],
 "metadata": {
  "kernelspec": {
   "display_name": "Python 3",
   "language": "python",
   "name": "python3"
  },
  "language_info": {
   "codemirror_mode": {
    "name": "ipython",
    "version": 3
   },
   "file_extension": ".py",
   "mimetype": "text/x-python",
   "name": "python",
   "nbconvert_exporter": "python",
   "pygments_lexer": "ipython3",
   "version": "3.8.8"
  }
 },
 "nbformat": 4,
 "nbformat_minor": 4
}
